{
 "cells": [
  {
   "cell_type": "markdown",
   "metadata": {},
   "source": [
    "### Importação das bibliotecas"
   ]
  },
  {
   "cell_type": "code",
   "execution_count": 13,
   "metadata": {},
   "outputs": [],
   "source": [
    "import numpy as np\n",
    "import pandas as pd\n",
    "import seaborn as sns\n",
    "import matplotlib.pyplot as plt"
   ]
  },
  {
   "cell_type": "markdown",
   "metadata": {},
   "source": [
    "### Importação do CSV (Data de última atualização deste dataset\")"
   ]
  },
  {
   "cell_type": "code",
   "execution_count": 14,
   "metadata": {},
   "outputs": [],
   "source": [
    "csv_path = 'data/Manaus.csv'\n",
    "#csv_path = 'csv_path = 'https://covid19.manaus.am.gov.br/wp-content/uploads/Manaus.csv' Realtime dataset\n",
    "df = pd.read_csv(csv_path,encoding='iso-8859-1',sep=';')"
   ]
  },
  {
   "cell_type": "markdown",
   "metadata": {},
   "source": [
    "## 2. Visão geral dos casos confirmados"
   ]
  },
  {
   "cell_type": "markdown",
   "metadata": {},
   "source": [
    "### 2.1 Considerar apenas casos confirmados"
   ]
  },
  {
   "cell_type": "code",
   "execution_count": 15,
   "metadata": {},
   "outputs": [],
   "source": [
    "df = df[df._classificacao.eq('Confirmado')]"
   ]
  },
  {
   "cell_type": "code",
   "execution_count": 16,
   "metadata": {},
   "outputs": [],
   "source": [
    "#df = df_positive"
   ]
  },
  {
   "cell_type": "markdown",
   "metadata": {},
   "source": [
    "### 2.2 Quantos atributos descrevem cada exemplo? Quais são eles?\n"
   ]
  },
  {
   "cell_type": "code",
   "execution_count": 17,
   "metadata": {},
   "outputs": [
    {
     "name": "stdout",
     "output_type": "stream",
     "text": [
      "São 36 atributos, sendo eles:\n",
      "Index(['_idade', '_faixa etária', '_sexo', '_bairro', '_classificacao',\n",
      "       '_comorb_renal', '_comorb_diabetes', '_comorb_imuno', '_comorb_cardio',\n",
      "       '_conclusao', '_dt_notificacao', '_taxa', '_dt_evolucao', '_raca',\n",
      "       '_dt_sintomas', '_criterio', '_tipo_teste', '_sintoma_garganta',\n",
      "       '_sintoma_dispneia', '_sintoma_febre', '_sintoma_tosse',\n",
      "       '_sintoma_outros', '_etnia', '_profiss_saude', '_srag',\n",
      "       '_se_notificacao', '_distrito', '_bairro_mapa', '_comorb_respiratoria',\n",
      "       '_comorb_cromossomica', '_comorb_hepatica', '_comorb_neurologica',\n",
      "       '_comorb_hemato', '_comorb_obessidade', '_origem', '_evolução'],\n",
      "      dtype='object')\n"
     ]
    }
   ],
   "source": [
    "print(f\"São {len(df.columns)} atributos, sendo eles:\")\n",
    "print(df.columns)"
   ]
  },
  {
   "cell_type": "markdown",
   "metadata": {},
   "source": [
    "### 2.3 Quantos casos confirmados há em Manaus, cumulativamente?"
   ]
  },
  {
   "cell_type": "code",
   "execution_count": 18,
   "metadata": {},
   "outputs": [
    {
     "name": "stdout",
     "output_type": "stream",
     "text": [
      "Segundo o dataset utilizado, há atualmente 36947 casos confirmados em Manaus\n"
     ]
    }
   ],
   "source": [
    "print(f\"Segundo o dataset utilizado, há atualmente {len(df)} casos confirmados em Manaus\")"
   ]
  },
  {
   "cell_type": "markdown",
   "metadata": {},
   "source": [
    "### 2.4. A qual período de tempo a base de dados se refere, isto é, qual o registro mais antigo e qual o mais recente? Leve em conta a data de notificação."
   ]
  },
  {
   "cell_type": "code",
   "execution_count": 23,
   "metadata": {},
   "outputs": [
    {
     "name": "stdout",
     "output_type": "stream",
     "text": [
      "107318   2020-01-30\n",
      "76875    2020-02-16\n",
      "77211    2020-02-16\n",
      "99336    2020-02-23\n",
      "49916    2020-03-06\n",
      "89016    2020-03-09\n",
      "108094   2020-03-11\n",
      "90875    2020-03-12\n",
      "68700    2020-03-13\n",
      "91078    2020-03-14\n",
      "75419    2020-03-14\n",
      "89134    2020-03-14\n",
      "86867    2020-03-16\n",
      "68808    2020-03-16\n",
      "99361    2020-03-16\n",
      "7692     2020-03-16\n",
      "90584    2020-03-17\n",
      "6236     2020-03-17\n",
      "89348    2020-03-18\n",
      "89349    2020-03-19\n",
      "Name: _dt_notificacao, dtype: datetime64[ns]\n"
     ]
    }
   ],
   "source": [
    "#df[\"_dt_notificacao\"] = pd.to_datetime(df[\"_dt_notificacao\"])\n",
    "df[\"_dt_notificacao\"] = pd.to_datetime(df[\"_dt_notificacao\"],format='%d/%m/%Y')\n",
    "\n",
    "print(df.sort_values(['_dt_notificacao'])[\"_dt_notificacao\"][:20])"
   ]
  },
  {
   "cell_type": "markdown",
   "metadata": {},
   "source": [
    "Acima, convertemos o tipo de dados da coluna _dt_notificacao para DateTime"
   ]
  },
  {
   "cell_type": "code",
   "execution_count": 20,
   "metadata": {},
   "outputs": [
    {
     "data": {
      "text/plain": [
       "Timestamp('2020-01-30 00:00:00')"
      ]
     },
     "execution_count": 20,
     "metadata": {},
     "output_type": "execute_result"
    }
   ],
   "source": [
    "df[\"_dt_notificacao\"].min()"
   ]
  },
  {
   "cell_type": "code",
   "execution_count": 21,
   "metadata": {},
   "outputs": [
    {
     "data": {
      "text/plain": [
       "Timestamp('2020-08-06 00:00:00')"
      ]
     },
     "execution_count": 21,
     "metadata": {},
     "output_type": "execute_result"
    }
   ],
   "source": [
    "df[\"_dt_notificacao\"].max()"
   ]
  },
  {
   "cell_type": "markdown",
   "metadata": {},
   "source": [
    "Usando as funções min e max, concluímos que o registro mais antigo é do dia 01;"
   ]
  },
  {
   "cell_type": "code",
   "execution_count": 22,
   "metadata": {},
   "outputs": [
    {
     "name": "stdout",
     "output_type": "stream",
     "text": [
      "0   2020-05-04\n",
      "2   2020-05-04\n",
      "3   2020-05-04\n",
      "4   2020-05-04\n",
      "5   2020-05-04\n",
      "Name: _dt_notificacao, dtype: datetime64[ns]\n"
     ]
    }
   ],
   "source": [
    "#df = df[df._classificacao.eq('Confirmado')]\n",
    "print(df['_dt_notificacao'].head())\n",
    "#df[\"_dt_notificacao\"].min()"
   ]
  },
  {
   "cell_type": "code",
   "execution_count": null,
   "metadata": {},
   "outputs": [],
   "source": []
  },
  {
   "cell_type": "code",
   "execution_count": null,
   "metadata": {},
   "outputs": [],
   "source": []
  },
  {
   "cell_type": "code",
   "execution_count": null,
   "metadata": {},
   "outputs": [],
   "source": []
  },
  {
   "cell_type": "code",
   "execution_count": null,
   "metadata": {},
   "outputs": [],
   "source": []
  },
  {
   "cell_type": "code",
   "execution_count": null,
   "metadata": {},
   "outputs": [],
   "source": []
  },
  {
   "cell_type": "code",
   "execution_count": null,
   "metadata": {},
   "outputs": [],
   "source": []
  }
 ],
 "metadata": {
  "kernelspec": {
   "display_name": "Python 3",
   "language": "python",
   "name": "python3"
  },
  "language_info": {
   "codemirror_mode": {
    "name": "ipython",
    "version": 3
   },
   "file_extension": ".py",
   "mimetype": "text/x-python",
   "name": "python",
   "nbconvert_exporter": "python",
   "pygments_lexer": "ipython3",
   "version": "3.6.10"
  }
 },
 "nbformat": 4,
 "nbformat_minor": 4
}
