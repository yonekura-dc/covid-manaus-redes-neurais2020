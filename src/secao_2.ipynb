{
 "cells": [
  {
   "cell_type": "markdown",
   "metadata": {},
   "source": [
    "### Importação das bibliotecas"
   ]
  },
  {
   "cell_type": "code",
   "execution_count": 1,
   "metadata": {},
   "outputs": [],
   "source": [
    "import numpy as np\n",
    "import pandas as pd\n",
    "import seaborn as sns\n",
    "import matplotlib.pyplot as plt"
   ]
  },
  {
   "cell_type": "markdown",
   "metadata": {},
   "source": [
    "### Importação do CSV (Data de última atualização deste dataset\")"
   ]
  },
  {
   "cell_type": "code",
   "execution_count": 2,
   "metadata": {},
   "outputs": [
    {
     "name": "stderr",
     "output_type": "stream",
     "text": [
      "/home/rfx/anaconda3/envs/covid/lib/python3.6/site-packages/IPython/core/interactiveshell.py:3072: DtypeWarning: Columns (12,15,22,24,30,31,32,33,35) have mixed types.Specify dtype option on import or set low_memory=False.\n",
      "  interactivity=interactivity, compiler=compiler, result=result)\n"
     ]
    }
   ],
   "source": [
    "csv_path = 'data/Manaus.csv'\n",
    "#csv_path = 'csv_path = 'https://covid19.manaus.am.gov.br/wp-content/uploads/Manaus.csv' Realtime dataset\n",
    "df = pd.read_csv(csv_path,encoding='iso-8859-1',sep=';')"
   ]
  },
  {
   "cell_type": "markdown",
   "metadata": {},
   "source": [
    "## 2. Visão geral dos casos confirmados"
   ]
  },
  {
   "cell_type": "markdown",
   "metadata": {},
   "source": [
    "### 1. Considerar apenas casos confirmados"
   ]
  },
  {
   "cell_type": "code",
   "execution_count": 3,
   "metadata": {},
   "outputs": [],
   "source": [
    "df = df[df._classificacao.eq('Confirmado')]"
   ]
  },
  {
   "cell_type": "code",
   "execution_count": 4,
   "metadata": {},
   "outputs": [],
   "source": [
    "#df = df_positive"
   ]
  },
  {
   "cell_type": "markdown",
   "metadata": {},
   "source": [
    "### 2. Quantos atributos descrevem cada exemplo? Quais são eles?\n"
   ]
  },
  {
   "cell_type": "code",
   "execution_count": 5,
   "metadata": {},
   "outputs": [
    {
     "name": "stdout",
     "output_type": "stream",
     "text": [
      "São 36 atributos, sendo eles:\n",
      "Index(['_idade', '_faixa etária', '_sexo', '_bairro', '_classificacao',\n",
      "       '_comorb_renal', '_comorb_diabetes', '_comorb_imuno', '_comorb_cardio',\n",
      "       '_conclusao', '_dt_notificacao', '_taxa', '_dt_evolucao', '_raca',\n",
      "       '_dt_sintomas', '_criterio', '_tipo_teste', '_sintoma_garganta',\n",
      "       '_sintoma_dispneia', '_sintoma_febre', '_sintoma_tosse',\n",
      "       '_sintoma_outros', '_etnia', '_profiss_saude', '_srag',\n",
      "       '_se_notificacao', '_distrito', '_bairro_mapa', '_comorb_respiratoria',\n",
      "       '_comorb_cromossomica', '_comorb_hepatica', '_comorb_neurologica',\n",
      "       '_comorb_hemato', '_comorb_obessidade', '_origem', '_evolução'],\n",
      "      dtype='object')\n"
     ]
    }
   ],
   "source": [
    "print(f\"São {len(df.columns)} atributos, sendo eles:\")\n",
    "print(df.columns)"
   ]
  },
  {
   "cell_type": "markdown",
   "metadata": {},
   "source": [
    "### 3. Quantos casos confirmados há em Manaus, cumulativamente?"
   ]
  },
  {
   "cell_type": "code",
   "execution_count": 6,
   "metadata": {},
   "outputs": [
    {
     "name": "stdout",
     "output_type": "stream",
     "text": [
      "Segundo o dataset utilizado, há atualmente 36947 casos confirmados em Manaus\n"
     ]
    }
   ],
   "source": [
    "print(f\"Segundo o dataset utilizado, há atualmente {len(df)} casos confirmados em Manaus\")"
   ]
  },
  {
   "cell_type": "markdown",
   "metadata": {},
   "source": [
    "### 4. A qual período de tempo a base de dados se refere, isto é, qual o registro mais antigo e qual o mais recente? Leve em conta a data de notificação."
   ]
  },
  {
   "cell_type": "code",
   "execution_count": 7,
   "metadata": {},
   "outputs": [
    {
     "name": "stdout",
     "output_type": "stream",
     "text": [
      "107318   2020-01-30\n",
      "76875    2020-02-16\n",
      "77211    2020-02-16\n",
      "99336    2020-02-23\n",
      "49916    2020-03-06\n",
      "89016    2020-03-09\n",
      "108094   2020-03-11\n",
      "90875    2020-03-12\n",
      "68700    2020-03-13\n",
      "91078    2020-03-14\n",
      "75419    2020-03-14\n",
      "89134    2020-03-14\n",
      "86867    2020-03-16\n",
      "68808    2020-03-16\n",
      "99361    2020-03-16\n",
      "7692     2020-03-16\n",
      "90584    2020-03-17\n",
      "6236     2020-03-17\n",
      "89348    2020-03-18\n",
      "89349    2020-03-19\n",
      "Name: _dt_notificacao, dtype: datetime64[ns]\n"
     ]
    }
   ],
   "source": [
    "#df[\"_dt_notificacao\"] = pd.to_datetime(df[\"_dt_notificacao\"])\n",
    "df[\"_dt_notificacao\"] = pd.to_datetime(df[\"_dt_notificacao\"],format='%d/%m/%Y')\n",
    "\n",
    "print(df.sort_values(['_dt_notificacao'])[\"_dt_notificacao\"][:20])"
   ]
  },
  {
   "cell_type": "markdown",
   "metadata": {},
   "source": [
    "Acima, convertemos o tipo de dados da coluna _dt_notificacao para DateTime"
   ]
  },
  {
   "cell_type": "code",
   "execution_count": 8,
   "metadata": {},
   "outputs": [
    {
     "data": {
      "text/plain": [
       "Timestamp('2020-01-30 00:00:00')"
      ]
     },
     "execution_count": 8,
     "metadata": {},
     "output_type": "execute_result"
    }
   ],
   "source": [
    "df[\"_dt_notificacao\"].min()"
   ]
  },
  {
   "cell_type": "code",
   "execution_count": 9,
   "metadata": {},
   "outputs": [
    {
     "data": {
      "text/plain": [
       "Timestamp('2020-08-06 00:00:00')"
      ]
     },
     "execution_count": 9,
     "metadata": {},
     "output_type": "execute_result"
    }
   ],
   "source": [
    "df[\"_dt_notificacao\"].max()"
   ]
  },
  {
   "cell_type": "markdown",
   "metadata": {},
   "source": [
    "Usando as funções min e max, concluímos que o registro mais antigo é do dia 30/01/2020 e o mais recente é 06/08/2020;"
   ]
  },
  {
   "cell_type": "code",
   "execution_count": 10,
   "metadata": {},
   "outputs": [
    {
     "name": "stdout",
     "output_type": "stream",
     "text": [
      "0   2020-05-04\n",
      "2   2020-05-04\n",
      "3   2020-05-04\n",
      "4   2020-05-04\n",
      "5   2020-05-04\n",
      "Name: _dt_notificacao, dtype: datetime64[ns]\n"
     ]
    }
   ],
   "source": [
    "#df = df[df._classificacao.eq('Confirmado')]\n",
    "print(df['_dt_notificacao'].head())\n",
    "#df[\"_dt_notificacao\"].min()"
   ]
  },
  {
   "cell_type": "markdown",
   "metadata": {},
   "source": [
    "Para que as seguintes questões fossem resolvidas, fora necessário a realização de uma filtragem na base de dados"
   ]
  },
  {
   "cell_type": "code",
   "execution_count": 11,
   "metadata": {},
   "outputs": [],
   "source": [
    "filterList = ['_comorb', 'sintoma(s)*','_etnia','_profiss_saude','^(_dt_.*(?<!notificacao)$)','_origem', \n",
    "              '_raca', '_criterio','_srag','_evolução']\n",
    "for i in range(len(filterList)):\n",
    "    df = df[df.columns.drop(list(df.filter(regex=filterList[i])))]\n",
    "dfWithTestType = df\n",
    "df = df[df.columns.drop(list(df.filter(regex='_tipo_teste')))]\n",
    "# df.dropna(inplace=True)\n",
    "dfWithTestType.dropna(inplace=True)\n"
   ]
  },
  {
   "cell_type": "code",
   "execution_count": 12,
   "metadata": {},
   "outputs": [
    {
     "name": "stdout",
     "output_type": "stream",
     "text": [
      "36947\n"
     ]
    }
   ],
   "source": [
    "print(len(df.index))"
   ]
  },
  {
   "cell_type": "markdown",
   "metadata": {},
   "source": [
    "### 1) Quantos exemplos e atributos há na base de dados após a limpeza e organização?"
   ]
  },
  {
   "cell_type": "code",
   "execution_count": 13,
   "metadata": {},
   "outputs": [
    {
     "name": "stdout",
     "output_type": "stream",
     "text": [
      "Total de casos confirmados após os filtros:  36947\n"
     ]
    }
   ],
   "source": [
    "print(\"Total de casos confirmados após os filtros: \", len(df.index))"
   ]
  },
  {
   "cell_type": "markdown",
   "metadata": {},
   "source": [
    "Total de casos confirmados após os filtros:  12672"
   ]
  },
  {
   "cell_type": "markdown",
   "metadata": {},
   "source": [
    "### 2) Qual a porcentagem de indivíduos recuperados em relação ao todo?"
   ]
  },
  {
   "cell_type": "code",
   "execution_count": 14,
   "metadata": {},
   "outputs": [
    {
     "name": "stdout",
     "output_type": "stream",
     "text": [
      "Porcentagem de individuos recuperados em relação ao todo após os filtros: 30.693\n"
     ]
    }
   ],
   "source": [
    "percentRecovered = len(df[df._conclusao.eq('Recuperado')])/len(df.index)\n",
    "print(\"Porcentagem de individuos recuperados em relação ao todo após os filtros: %.3f\" % (percentRecovered*100))"
   ]
  },
  {
   "cell_type": "markdown",
   "metadata": {},
   "source": [
    "Porcentagem de individuos recuperados em relação ao todo após os filtros: 83.917"
   ]
  },
  {
   "cell_type": "markdown",
   "metadata": {},
   "source": [
    "### 3) Os casos acometeram mais indivíduos do sexo masculino ou feminino?"
   ]
  },
  {
   "cell_type": "code",
   "execution_count": 15,
   "metadata": {},
   "outputs": [
    {
     "name": "stdout",
     "output_type": "stream",
     "text": [
      "Masculino:  17410\n",
      "Feminino  19374\n"
     ]
    }
   ],
   "source": [
    "print(\"Masculino: \", len(df[df._sexo.eq('M')]))\n",
    "print(\"Feminino \", len(df[df._sexo.eq('F')]))"
   ]
  },
  {
   "cell_type": "markdown",
   "metadata": {},
   "source": [
    "Masculino:  6367\n",
    "Feminino  6305\n",
    "A maioria dos casos ocorridos foram do sexo Masculino"
   ]
  },
  {
   "cell_type": "markdown",
   "metadata": {},
   "source": [
    "### 4) Qual a média e desvio padrão de idade dos indivíduos que contraíram COVID-19? Qual o indivíduo mais jovem e o mais idoso a contraírem tal enfermidade?"
   ]
  },
  {
   "cell_type": "code",
   "execution_count": 16,
   "metadata": {},
   "outputs": [
    {
     "name": "stdout",
     "output_type": "stream",
     "text": [
      "Média da idade dos Confirmados é: 43.419\n",
      "O desvio padrão da idade dos Confirmados é: 16.919\n",
      "A pessoa mais jovem a contrair tem:  0.0 anos, A mais idosa possui:  120.0\n"
     ]
    }
   ],
   "source": [
    "print(\"Média da idade dos Confirmados é: %.3f\" %df['_idade'].mean())\n",
    "print(\"O desvio padrão da idade dos Confirmados é: %.3f\" %df['_idade'].std())\n",
    "print(\"A pessoa mais jovem a contrair tem: \", df['_idade'].min(), \"anos, A mais idosa possui: \", df['_idade'].max())"
   ]
  },
  {
   "cell_type": "markdown",
   "metadata": {},
   "source": [
    "Média da idade dos Confirmados é: 47.649\n",
    "O desvio padrão da idade dos Confirmados é: 18.143\n",
    "A pessoa mais jovem a contrair tem:  0.0 anos, A mais idosa possui:  118.0"
   ]
  },
  {
   "cell_type": "markdown",
   "metadata": {},
   "source": [
    "### 5)Qual o bairro com maior incidência de casos?"
   ]
  },
  {
   "cell_type": "code",
   "execution_count": 17,
   "metadata": {},
   "outputs": [
    {
     "ename": "KeyError",
     "evalue": "'_bairro'",
     "output_type": "error",
     "traceback": [
      "\u001b[0;31m---------------------------------------------------------------------------\u001b[0m",
      "\u001b[0;31mTypeError\u001b[0m                                 Traceback (most recent call last)",
      "\u001b[0;32m~/anaconda3/envs/covid/lib/python3.6/site-packages/pandas/core/indexes/base.py\u001b[0m in \u001b[0;36mget_value\u001b[0;34m(self, series, key)\u001b[0m\n\u001b[1;32m   4410\u001b[0m             \u001b[0;32mtry\u001b[0m\u001b[0;34m:\u001b[0m\u001b[0;34m\u001b[0m\u001b[0;34m\u001b[0m\u001b[0m\n\u001b[0;32m-> 4411\u001b[0;31m                 \u001b[0;32mreturn\u001b[0m \u001b[0mlibindex\u001b[0m\u001b[0;34m.\u001b[0m\u001b[0mget_value_at\u001b[0m\u001b[0;34m(\u001b[0m\u001b[0ms\u001b[0m\u001b[0;34m,\u001b[0m \u001b[0mkey\u001b[0m\u001b[0;34m)\u001b[0m\u001b[0;34m\u001b[0m\u001b[0;34m\u001b[0m\u001b[0m\n\u001b[0m\u001b[1;32m   4412\u001b[0m             \u001b[0;32mexcept\u001b[0m \u001b[0mIndexError\u001b[0m\u001b[0;34m:\u001b[0m\u001b[0;34m\u001b[0m\u001b[0;34m\u001b[0m\u001b[0m\n",
      "\u001b[0;32mpandas/_libs/index.pyx\u001b[0m in \u001b[0;36mpandas._libs.index.get_value_at\u001b[0;34m()\u001b[0m\n",
      "\u001b[0;32mpandas/_libs/index.pyx\u001b[0m in \u001b[0;36mpandas._libs.index.get_value_at\u001b[0;34m()\u001b[0m\n",
      "\u001b[0;32mpandas/_libs/util.pxd\u001b[0m in \u001b[0;36mpandas._libs.util.get_value_at\u001b[0;34m()\u001b[0m\n",
      "\u001b[0;32mpandas/_libs/util.pxd\u001b[0m in \u001b[0;36mpandas._libs.util.validate_indexer\u001b[0;34m()\u001b[0m\n",
      "\u001b[0;31mTypeError\u001b[0m: 'str' object cannot be interpreted as an integer",
      "\nDuring handling of the above exception, another exception occurred:\n",
      "\u001b[0;31mKeyError\u001b[0m                                  Traceback (most recent call last)",
      "\u001b[0;32m<ipython-input-17-6f026aee4ff3>\u001b[0m in \u001b[0;36m<module>\u001b[0;34m\u001b[0m\n\u001b[1;32m      1\u001b[0m \u001b[0mhigherRateNeighborhood\u001b[0m \u001b[0;34m=\u001b[0m \u001b[0mdf\u001b[0m\u001b[0;34m[\u001b[0m\u001b[0;34m[\u001b[0m\u001b[0;34m'_bairro'\u001b[0m\u001b[0;34m,\u001b[0m\u001b[0;34m'_taxa'\u001b[0m\u001b[0;34m]\u001b[0m\u001b[0;34m]\u001b[0m\u001b[0;34m.\u001b[0m\u001b[0mmax\u001b[0m\u001b[0;34m(\u001b[0m\u001b[0;34m)\u001b[0m\u001b[0;34m\u001b[0m\u001b[0;34m\u001b[0m\u001b[0m\n\u001b[0;32m----> 2\u001b[0;31m \u001b[0mprint\u001b[0m\u001b[0;34m(\u001b[0m\u001b[0;34m\"5) O bairro de maior incidencia de casos é: \"\u001b[0m\u001b[0;34m,\u001b[0m \u001b[0mhigherRateNeighborhood\u001b[0m\u001b[0;34m[\u001b[0m\u001b[0;34m'_bairro'\u001b[0m\u001b[0;34m]\u001b[0m\u001b[0;34m)\u001b[0m\u001b[0;34m\u001b[0m\u001b[0;34m\u001b[0m\u001b[0m\n\u001b[0m",
      "\u001b[0;32m~/anaconda3/envs/covid/lib/python3.6/site-packages/pandas/core/series.py\u001b[0m in \u001b[0;36m__getitem__\u001b[0;34m(self, key)\u001b[0m\n\u001b[1;32m    869\u001b[0m         \u001b[0mkey\u001b[0m \u001b[0;34m=\u001b[0m \u001b[0mcom\u001b[0m\u001b[0;34m.\u001b[0m\u001b[0mapply_if_callable\u001b[0m\u001b[0;34m(\u001b[0m\u001b[0mkey\u001b[0m\u001b[0;34m,\u001b[0m \u001b[0mself\u001b[0m\u001b[0;34m)\u001b[0m\u001b[0;34m\u001b[0m\u001b[0;34m\u001b[0m\u001b[0m\n\u001b[1;32m    870\u001b[0m         \u001b[0;32mtry\u001b[0m\u001b[0;34m:\u001b[0m\u001b[0;34m\u001b[0m\u001b[0;34m\u001b[0m\u001b[0m\n\u001b[0;32m--> 871\u001b[0;31m             \u001b[0mresult\u001b[0m \u001b[0;34m=\u001b[0m \u001b[0mself\u001b[0m\u001b[0;34m.\u001b[0m\u001b[0mindex\u001b[0m\u001b[0;34m.\u001b[0m\u001b[0mget_value\u001b[0m\u001b[0;34m(\u001b[0m\u001b[0mself\u001b[0m\u001b[0;34m,\u001b[0m \u001b[0mkey\u001b[0m\u001b[0;34m)\u001b[0m\u001b[0;34m\u001b[0m\u001b[0;34m\u001b[0m\u001b[0m\n\u001b[0m\u001b[1;32m    872\u001b[0m \u001b[0;34m\u001b[0m\u001b[0m\n\u001b[1;32m    873\u001b[0m             \u001b[0;32mif\u001b[0m \u001b[0;32mnot\u001b[0m \u001b[0mis_scalar\u001b[0m\u001b[0;34m(\u001b[0m\u001b[0mresult\u001b[0m\u001b[0;34m)\u001b[0m\u001b[0;34m:\u001b[0m\u001b[0;34m\u001b[0m\u001b[0;34m\u001b[0m\u001b[0m\n",
      "\u001b[0;32m~/anaconda3/envs/covid/lib/python3.6/site-packages/pandas/core/indexes/base.py\u001b[0m in \u001b[0;36mget_value\u001b[0;34m(self, series, key)\u001b[0m\n\u001b[1;32m   4417\u001b[0m                     \u001b[0;32mraise\u001b[0m \u001b[0mInvalidIndexError\u001b[0m\u001b[0;34m(\u001b[0m\u001b[0mkey\u001b[0m\u001b[0;34m)\u001b[0m\u001b[0;34m\u001b[0m\u001b[0;34m\u001b[0m\u001b[0m\n\u001b[1;32m   4418\u001b[0m                 \u001b[0;32melse\u001b[0m\u001b[0;34m:\u001b[0m\u001b[0;34m\u001b[0m\u001b[0;34m\u001b[0m\u001b[0m\n\u001b[0;32m-> 4419\u001b[0;31m                     \u001b[0;32mraise\u001b[0m \u001b[0me1\u001b[0m\u001b[0;34m\u001b[0m\u001b[0;34m\u001b[0m\u001b[0m\n\u001b[0m\u001b[1;32m   4420\u001b[0m             \u001b[0;32mexcept\u001b[0m \u001b[0mException\u001b[0m\u001b[0;34m:\u001b[0m\u001b[0;34m\u001b[0m\u001b[0;34m\u001b[0m\u001b[0m\n\u001b[1;32m   4421\u001b[0m                 \u001b[0;32mraise\u001b[0m \u001b[0me1\u001b[0m\u001b[0;34m\u001b[0m\u001b[0;34m\u001b[0m\u001b[0m\n",
      "\u001b[0;32m~/anaconda3/envs/covid/lib/python3.6/site-packages/pandas/core/indexes/base.py\u001b[0m in \u001b[0;36mget_value\u001b[0;34m(self, series, key)\u001b[0m\n\u001b[1;32m   4403\u001b[0m         \u001b[0mk\u001b[0m \u001b[0;34m=\u001b[0m \u001b[0mself\u001b[0m\u001b[0;34m.\u001b[0m\u001b[0m_convert_scalar_indexer\u001b[0m\u001b[0;34m(\u001b[0m\u001b[0mk\u001b[0m\u001b[0;34m,\u001b[0m \u001b[0mkind\u001b[0m\u001b[0;34m=\u001b[0m\u001b[0;34m\"getitem\"\u001b[0m\u001b[0;34m)\u001b[0m\u001b[0;34m\u001b[0m\u001b[0;34m\u001b[0m\u001b[0m\n\u001b[1;32m   4404\u001b[0m         \u001b[0;32mtry\u001b[0m\u001b[0;34m:\u001b[0m\u001b[0;34m\u001b[0m\u001b[0;34m\u001b[0m\u001b[0m\n\u001b[0;32m-> 4405\u001b[0;31m             \u001b[0;32mreturn\u001b[0m \u001b[0mself\u001b[0m\u001b[0;34m.\u001b[0m\u001b[0m_engine\u001b[0m\u001b[0;34m.\u001b[0m\u001b[0mget_value\u001b[0m\u001b[0;34m(\u001b[0m\u001b[0ms\u001b[0m\u001b[0;34m,\u001b[0m \u001b[0mk\u001b[0m\u001b[0;34m,\u001b[0m \u001b[0mtz\u001b[0m\u001b[0;34m=\u001b[0m\u001b[0mgetattr\u001b[0m\u001b[0;34m(\u001b[0m\u001b[0mseries\u001b[0m\u001b[0;34m.\u001b[0m\u001b[0mdtype\u001b[0m\u001b[0;34m,\u001b[0m \u001b[0;34m\"tz\"\u001b[0m\u001b[0;34m,\u001b[0m \u001b[0;32mNone\u001b[0m\u001b[0;34m)\u001b[0m\u001b[0;34m)\u001b[0m\u001b[0;34m\u001b[0m\u001b[0;34m\u001b[0m\u001b[0m\n\u001b[0m\u001b[1;32m   4406\u001b[0m         \u001b[0;32mexcept\u001b[0m \u001b[0mKeyError\u001b[0m \u001b[0;32mas\u001b[0m \u001b[0me1\u001b[0m\u001b[0;34m:\u001b[0m\u001b[0;34m\u001b[0m\u001b[0;34m\u001b[0m\u001b[0m\n\u001b[1;32m   4407\u001b[0m             \u001b[0;32mif\u001b[0m \u001b[0mlen\u001b[0m\u001b[0;34m(\u001b[0m\u001b[0mself\u001b[0m\u001b[0;34m)\u001b[0m \u001b[0;34m>\u001b[0m \u001b[0;36m0\u001b[0m \u001b[0;32mand\u001b[0m \u001b[0;34m(\u001b[0m\u001b[0mself\u001b[0m\u001b[0;34m.\u001b[0m\u001b[0mholds_integer\u001b[0m\u001b[0;34m(\u001b[0m\u001b[0;34m)\u001b[0m \u001b[0;32mor\u001b[0m \u001b[0mself\u001b[0m\u001b[0;34m.\u001b[0m\u001b[0mis_boolean\u001b[0m\u001b[0;34m(\u001b[0m\u001b[0;34m)\u001b[0m\u001b[0;34m)\u001b[0m\u001b[0;34m:\u001b[0m\u001b[0;34m\u001b[0m\u001b[0;34m\u001b[0m\u001b[0m\n",
      "\u001b[0;32mpandas/_libs/index.pyx\u001b[0m in \u001b[0;36mpandas._libs.index.IndexEngine.get_value\u001b[0;34m()\u001b[0m\n",
      "\u001b[0;32mpandas/_libs/index.pyx\u001b[0m in \u001b[0;36mpandas._libs.index.IndexEngine.get_value\u001b[0;34m()\u001b[0m\n",
      "\u001b[0;32mpandas/_libs/index.pyx\u001b[0m in \u001b[0;36mpandas._libs.index.IndexEngine.get_loc\u001b[0;34m()\u001b[0m\n",
      "\u001b[0;32mpandas/_libs/hashtable_class_helper.pxi\u001b[0m in \u001b[0;36mpandas._libs.hashtable.PyObjectHashTable.get_item\u001b[0;34m()\u001b[0m\n",
      "\u001b[0;32mpandas/_libs/hashtable_class_helper.pxi\u001b[0m in \u001b[0;36mpandas._libs.hashtable.PyObjectHashTable.get_item\u001b[0;34m()\u001b[0m\n",
      "\u001b[0;31mKeyError\u001b[0m: '_bairro'"
     ]
    }
   ],
   "source": [
    "higherRateNeighborhood = df[['_bairro','_taxa']].max()\n",
    "print(\"5) O bairro de maior incidencia de casos é: \", higherRateNeighborhood['_bairro'])"
   ]
  },
  {
   "cell_type": "markdown",
   "metadata": {},
   "source": [
    "O bairro de maior incidencia de casos é:  ZUMBIM DOS PALMARES"
   ]
  },
  {
   "cell_type": "markdown",
   "metadata": {},
   "source": [
    "### 6) Quais os três bairros com maior incidência de casos recuperados?"
   ]
  },
  {
   "cell_type": "code",
   "execution_count": null,
   "metadata": {},
   "outputs": [],
   "source": [
    "higherRecoveredNeighbor = df.groupby(['_bairro','_conclusao'])._conclusao.count().sort_values(ascending=False).iloc[0:3]\n",
    "print(\"6) Os bairros com maior incidencia de casos recuperados são: \\n\", higherRecoveredNeighbor)"
   ]
  },
  {
   "cell_type": "markdown",
   "metadata": {},
   "source": [
    " _bairro      _conclusao\n",
    "CIDADE NOVA  Recuperado    521\n",
    "FLORES       Recuperado    388\n",
    "CENTRO       Recuperado    351"
   ]
  },
  {
   "cell_type": "markdown",
   "metadata": {},
   "source": [
    "### 7. Quais os tipos de testes efetuados, segundo os dados? Indique os dados de maneira quantitativa e percentual."
   ]
  },
  {
   "cell_type": "code",
   "execution_count": 18,
   "metadata": {},
   "outputs": [
    {
     "name": "stdout",
     "output_type": "stream",
     "text": [
      "Quantitativo:\n",
      "TESTE RÁPIDO - ANTICORPO    3602\n",
      "RT-PCR                      1501\n",
      "TESTE RÁPIDO - ANTÍGENO     1101\n",
      "ELISA IgM                      6\n",
      "ECLIA IgG                      4\n",
      "Name: _tipo_teste, dtype: int64\n",
      "\n",
      "Percentual:\n",
      "TESTE RÁPIDO - ANTICORPO    57.965883\n",
      "RT-PCR                      24.155134\n",
      "TESTE RÁPIDO - ANTÍGENO     17.718056\n",
      "ELISA IgM                    0.096556\n",
      "ECLIA IgG                    0.064371\n",
      "Name: _tipo_teste, dtype: float64\n"
     ]
    }
   ],
   "source": [
    "testType = dfWithTestType['_tipo_teste'].value_counts()\n",
    "percent = dfWithTestType['_tipo_teste'].value_counts(normalize=True) * 100\n",
    "print('Quantitativo:')\n",
    "print(testType)\n",
    "print('\\nPercentual:')\n",
    "print(percent)"
   ]
  },
  {
   "cell_type": "markdown",
   "metadata": {},
   "source": [
    "### 8. Qual taxa de letalidade pode ser calculada a partir do conjunto de dados? Para calcular esta taxa, considere a fração do total de óbitos pelo total de casos"
   ]
  },
  {
   "cell_type": "code",
   "execution_count": 19,
   "metadata": {},
   "outputs": [
    {
     "data": {
      "text/plain": [
       "0.15246636771300448"
      ]
     },
     "execution_count": 19,
     "metadata": {},
     "output_type": "execute_result"
    }
   ],
   "source": [
    "conclusions = df['_conclusao'].value_counts()\n",
    "total_cases = conclusions.sum()\n",
    "deaths = conclusions['Óbito']\n",
    "letality = deaths / total_cases\n",
    "letality"
   ]
  },
  {
   "cell_type": "markdown",
   "metadata": {},
   "source": [
    "### 9. Qual o tipo de correlação, mediante coeficiente de correlação de Pearson, entre a idade e o número de casos? Para responder a esta pergunte, agrupe o número de casos por idade e efetue o cálculo de tal coeficiente. Indique, a partir do resultado, a natureza desta correlação, se é positiva ou negativa, e qual sua intensidade."
   ]
  },
  {
   "cell_type": "code",
   "execution_count": null,
   "metadata": {},
   "outputs": [],
   "source": [
    "groupedByAge = df.loc[:]\n",
    "groupedByAge = groupedByAge['_idade'].value_counts().reset_index()\n",
    "groupedByAge.columns = ['idade', 'quantidade']\n",
    "groupedByAge\n",
    "groupedByAge.corr(method='pearson')"
   ]
  },
  {
   "cell_type": "markdown",
   "metadata": {},
   "source": [
    "O valor da correlação de Pearson é igual a -0.179869 e indica uma correlação desprezível entre idade e número de casos"
   ]
  },
  {
   "cell_type": "markdown",
   "metadata": {},
   "source": [
    "## 2..3. Tipos de Tarefas"
   ]
  },
  {
   "cell_type": "markdown",
   "metadata": {},
   "source": [
    "R1) \n",
    "Analisando a base de dados após as devidas reduções e filtragens de dados nota-se que para uma tarefa de Classificação mediante Aprendizado Supervisionado \" _faixaetária\" e \"_conclusao\" podem ser o atributo-alvo, pois um segue um padrão de a cada nove em nove anos, como 20 a 29 ou 30 a 39 anos e o outro se um pessoa foi Recuperada ou não.\n",
    "\n",
    "A métrica de desempenho utilizada nesta tarefa é a matriz de confusão na qual utilizaremos esta matriz para realizar os calculos da precisão e da revocação e por fim calcular o F-Score para que assim seja possível avaliar o modelo.\n",
    "\n",
    "A avaliação mais recomendada para as tarefas de Classificação mediante Aprendizado Supervisionado é a validação cruzada do tipo K-fold pois é nela que será garantido que o modelo irá treinar com todas as partições dos dados e que realizará testes em cima das mesmas."
   ]
  },
  {
   "cell_type": "markdown",
   "metadata": {},
   "source": [
    "R2)\n",
    "Analisando os dados para uma tarefa de regressão é possivel obter mais de um atributo-alvo, pode-se utilizar a \"_idade\" e \"_taxa, pois estes atributos é possiível predizer um valor aproximado de um número real.\n",
    "\n",
    "Os atributos preditores relevantes para este problema são a \"_faixaetária\", a \"_classificacao\", \"_conclusao\", \"_bairro\",\"_data\" e \"_se_notificacao\". Tais atributos podem vir a aprimorar a predição de algum atributo alvo, como por exemplo a taxa de infecção de um bairro em uma data futura."
   ]
  },
  {
   "cell_type": "markdown",
   "metadata": {},
   "source": [
    "R3)\n",
    "Pode-se utilizar clusterização para definir um grupo de risco.\n",
    "\n"
   ]
  },
  {
   "cell_type": "code",
   "execution_count": null,
   "metadata": {},
   "outputs": [],
   "source": []
  }
 ],
 "metadata": {
  "kernelspec": {
   "display_name": "Python 3",
   "language": "python",
   "name": "python3"
  },
  "language_info": {
   "codemirror_mode": {
    "name": "ipython",
    "version": 3
   },
   "file_extension": ".py",
   "mimetype": "text/x-python",
   "name": "python",
   "nbconvert_exporter": "python",
   "pygments_lexer": "ipython3",
   "version": "3.6.10"
  }
 },
 "nbformat": 4,
 "nbformat_minor": 4
}
